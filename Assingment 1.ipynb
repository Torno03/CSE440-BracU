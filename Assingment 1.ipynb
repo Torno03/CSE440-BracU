{
 "cells": [
  {
   "cell_type": "markdown",
   "metadata": {},
   "source": [
    "***Task 1***"
   ]
  },
  {
   "cell_type": "code",
   "execution_count": null,
   "metadata": {},
   "outputs": [
    {
     "name": "stderr",
     "output_type": "stream",
     "text": [
      "[nltk_data] Downloading collection 'book'\n",
      "[nltk_data]    | \n",
      "[nltk_data]    | Downloading package abc to\n",
      "[nltk_data]    |     C:\\Users\\mehed/nltk_data...\n",
      "[nltk_data]    |   Package abc is already up-to-date!\n",
      "[nltk_data]    | Downloading package brown to\n",
      "[nltk_data]    |     C:\\Users\\mehed/nltk_data...\n",
      "[nltk_data]    |   Package brown is already up-to-date!\n",
      "[nltk_data]    | Downloading package chat80 to\n",
      "[nltk_data]    |     C:\\Users\\mehed/nltk_data...\n",
      "[nltk_data]    |   Package chat80 is already up-to-date!\n",
      "[nltk_data]    | Downloading package cmudict to\n",
      "[nltk_data]    |     C:\\Users\\mehed/nltk_data...\n",
      "[nltk_data]    |   Package cmudict is already up-to-date!\n",
      "[nltk_data]    | Downloading package conll2000 to\n",
      "[nltk_data]    |     C:\\Users\\mehed/nltk_data...\n",
      "[nltk_data]    |   Package conll2000 is already up-to-date!\n",
      "[nltk_data]    | Downloading package conll2002 to\n",
      "[nltk_data]    |     C:\\Users\\mehed/nltk_data...\n",
      "[nltk_data]    |   Package conll2002 is already up-to-date!\n",
      "[nltk_data]    | Downloading package dependency_treebank to\n",
      "[nltk_data]    |     C:\\Users\\mehed/nltk_data...\n",
      "[nltk_data]    |   Package dependency_treebank is already up-to-date!\n",
      "[nltk_data]    | Downloading package genesis to\n",
      "[nltk_data]    |     C:\\Users\\mehed/nltk_data...\n",
      "[nltk_data]    |   Package genesis is already up-to-date!\n",
      "[nltk_data]    | Downloading package gutenberg to\n",
      "[nltk_data]    |     C:\\Users\\mehed/nltk_data...\n",
      "[nltk_data]    |   Package gutenberg is already up-to-date!\n",
      "[nltk_data]    | Downloading package ieer to\n",
      "[nltk_data]    |     C:\\Users\\mehed/nltk_data...\n",
      "[nltk_data]    |   Package ieer is already up-to-date!\n",
      "[nltk_data]    | Downloading package inaugural to\n",
      "[nltk_data]    |     C:\\Users\\mehed/nltk_data...\n",
      "[nltk_data]    |   Package inaugural is already up-to-date!\n",
      "[nltk_data]    | Downloading package movie_reviews to\n",
      "[nltk_data]    |     C:\\Users\\mehed/nltk_data...\n",
      "[nltk_data]    |   Package movie_reviews is already up-to-date!\n",
      "[nltk_data]    | Downloading package nps_chat to\n",
      "[nltk_data]    |     C:\\Users\\mehed/nltk_data...\n",
      "[nltk_data]    |   Package nps_chat is already up-to-date!\n",
      "[nltk_data]    | Downloading package names to\n",
      "[nltk_data]    |     C:\\Users\\mehed/nltk_data...\n",
      "[nltk_data]    |   Package names is already up-to-date!\n",
      "[nltk_data]    | Downloading package ppattach to\n",
      "[nltk_data]    |     C:\\Users\\mehed/nltk_data...\n",
      "[nltk_data]    |   Package ppattach is already up-to-date!\n",
      "[nltk_data]    | Downloading package reuters to\n",
      "[nltk_data]    |     C:\\Users\\mehed/nltk_data...\n",
      "[nltk_data]    |   Package reuters is already up-to-date!\n",
      "[nltk_data]    | Downloading package senseval to\n",
      "[nltk_data]    |     C:\\Users\\mehed/nltk_data...\n",
      "[nltk_data]    |   Package senseval is already up-to-date!\n",
      "[nltk_data]    | Downloading package state_union to\n",
      "[nltk_data]    |     C:\\Users\\mehed/nltk_data...\n",
      "[nltk_data]    |   Package state_union is already up-to-date!\n",
      "[nltk_data]    | Downloading package stopwords to\n",
      "[nltk_data]    |     C:\\Users\\mehed/nltk_data...\n",
      "[nltk_data]    |   Package stopwords is already up-to-date!\n",
      "[nltk_data]    | Downloading package swadesh to\n",
      "[nltk_data]    |     C:\\Users\\mehed/nltk_data...\n",
      "[nltk_data]    |   Package swadesh is already up-to-date!\n",
      "[nltk_data]    | Downloading package timit to\n",
      "[nltk_data]    |     C:\\Users\\mehed/nltk_data...\n",
      "[nltk_data]    |   Package timit is already up-to-date!\n",
      "[nltk_data]    | Downloading package treebank to\n",
      "[nltk_data]    |     C:\\Users\\mehed/nltk_data...\n",
      "[nltk_data]    |   Package treebank is already up-to-date!\n",
      "[nltk_data]    | Downloading package toolbox to\n",
      "[nltk_data]    |     C:\\Users\\mehed/nltk_data...\n",
      "[nltk_data]    |   Package toolbox is already up-to-date!\n",
      "[nltk_data]    | Downloading package udhr to\n",
      "[nltk_data]    |     C:\\Users\\mehed/nltk_data...\n",
      "[nltk_data]    |   Package udhr is already up-to-date!\n",
      "[nltk_data]    | Downloading package udhr2 to\n",
      "[nltk_data]    |     C:\\Users\\mehed/nltk_data...\n",
      "[nltk_data]    |   Package udhr2 is already up-to-date!\n",
      "[nltk_data]    | Downloading package unicode_samples to\n",
      "[nltk_data]    |     C:\\Users\\mehed/nltk_data...\n",
      "[nltk_data]    |   Package unicode_samples is already up-to-date!\n",
      "[nltk_data]    | Downloading package webtext to\n",
      "[nltk_data]    |     C:\\Users\\mehed/nltk_data...\n",
      "[nltk_data]    |   Package webtext is already up-to-date!\n",
      "[nltk_data]    | Downloading package wordnet to\n",
      "[nltk_data]    |     C:\\Users\\mehed/nltk_data...\n",
      "[nltk_data]    |   Package wordnet is already up-to-date!\n",
      "[nltk_data]    | Downloading package wordnet_ic to\n",
      "[nltk_data]    |     C:\\Users\\mehed/nltk_data...\n",
      "[nltk_data]    |   Package wordnet_ic is already up-to-date!\n",
      "[nltk_data]    | Downloading package words to\n",
      "[nltk_data]    |     C:\\Users\\mehed/nltk_data...\n",
      "[nltk_data]    |   Package words is already up-to-date!\n",
      "[nltk_data]    | Downloading package maxent_treebank_pos_tagger to\n",
      "[nltk_data]    |     C:\\Users\\mehed/nltk_data...\n",
      "[nltk_data]    |   Package maxent_treebank_pos_tagger is already up-\n",
      "[nltk_data]    |       to-date!\n",
      "[nltk_data]    | Downloading package maxent_ne_chunker to\n",
      "[nltk_data]    |     C:\\Users\\mehed/nltk_data...\n",
      "[nltk_data]    |   Package maxent_ne_chunker is already up-to-date!\n",
      "[nltk_data]    | Downloading package universal_tagset to\n",
      "[nltk_data]    |     C:\\Users\\mehed/nltk_data...\n",
      "[nltk_data]    |   Package universal_tagset is already up-to-date!\n",
      "[nltk_data]    | Downloading package punkt to\n",
      "[nltk_data]    |     C:\\Users\\mehed/nltk_data...\n",
      "[nltk_data]    |   Package punkt is already up-to-date!\n",
      "[nltk_data]    | Downloading package book_grammars to\n",
      "[nltk_data]    |     C:\\Users\\mehed/nltk_data...\n",
      "[nltk_data]    |   Package book_grammars is already up-to-date!\n",
      "[nltk_data]    | Downloading package city_database to\n",
      "[nltk_data]    |     C:\\Users\\mehed/nltk_data...\n",
      "[nltk_data]    |   Package city_database is already up-to-date!\n",
      "[nltk_data]    | Downloading package tagsets to\n",
      "[nltk_data]    |     C:\\Users\\mehed/nltk_data...\n",
      "[nltk_data]    |   Package tagsets is already up-to-date!\n",
      "[nltk_data]    | Downloading package panlex_swadesh to\n",
      "[nltk_data]    |     C:\\Users\\mehed/nltk_data...\n",
      "[nltk_data]    |   Package panlex_swadesh is already up-to-date!\n",
      "[nltk_data]    | Downloading package averaged_perceptron_tagger to\n",
      "[nltk_data]    |     C:\\Users\\mehed/nltk_data...\n",
      "[nltk_data]    |   Package averaged_perceptron_tagger is already up-\n",
      "[nltk_data]    |       to-date!\n",
      "[nltk_data]    | \n",
      "[nltk_data]  Done downloading collection book\n"
     ]
    },
    {
     "name": "stdout",
     "output_type": "stream",
     "text": [
      "*** Introductory Examples for the NLTK Book ***\n",
      "Loading text1, ..., text9 and sent1, ..., sent9\n",
      "Type the name of the text or sentence to view it.\n",
      "Type: 'texts()' or 'sents()' to list the materials.\n",
      "text1: Moby Dick by Herman Melville 1851\n",
      "text2: Sense and Sensibility by Jane Austen 1811\n",
      "text3: The Book of Genesis\n",
      "text4: Inaugural Address Corpus\n",
      "text5: Chat Corpus\n",
      "text6: Monty Python and the Holy Grail\n",
      "text7: Wall Street Journal\n",
      "text8: Personals Corpus\n",
      "text9: The Man Who Was Thursday by G . K . Chesterton 1908\n"
     ]
    }
   ],
   "source": [
    "import nltk\n",
    "nltk.download('book')\n",
    "from nltk.book import *\n",
    "from collections import Counter\n",
    "import string"
   ]
  },
  {
   "cell_type": "markdown",
   "metadata": {},
   "source": [
    "a. What is the vocabulary size for Moby Dick? That is, how many unique words are in Moby Dick?\n",
    "\n"
   ]
  },
  {
   "cell_type": "code",
   "execution_count": 2,
   "metadata": {},
   "outputs": [
    {
     "name": "stdout",
     "output_type": "stream",
     "text": [
      "Vocabulary size: 19317\n"
     ]
    }
   ],
   "source": [
    "unique_words = set(text1)\n",
    "vocabulary_size = len(unique_words)\n",
    "print(f\"Vocabulary size: {vocabulary_size}\")"
   ]
  },
  {
   "cell_type": "markdown",
   "metadata": {},
   "source": [
    "b. How many total words are there in Moby Dick?"
   ]
  },
  {
   "cell_type": "code",
   "execution_count": 3,
   "metadata": {},
   "outputs": [
    {
     "name": "stdout",
     "output_type": "stream",
     "text": [
      "Total words: 260819\n"
     ]
    }
   ],
   "source": [
    "total_words = len(text1)\n",
    "print(f\"Total words: {total_words}\")"
   ]
  },
  {
   "cell_type": "markdown",
   "metadata": {},
   "source": [
    "c. Count the number of times a word is present in the novella. Create a python dictionary where the key will be a word and the value will be the number of times that word appeared in Moby Dick. We will consider punctuation marks as words here.\n",
    "\n"
   ]
  },
  {
   "cell_type": "code",
   "execution_count": null,
   "metadata": {},
   "outputs": [],
   "source": [
    "word_counts = {word: text1.count(word) for word in set(text1)}\n",
    "print(f\"Sample word counts: {list(word_counts.items())[:5]}\")"
   ]
  },
  {
   "cell_type": "markdown",
   "metadata": {},
   "source": [
    "d. List top 10 most frequent words based on what you found in C."
   ]
  },
  {
   "cell_type": "code",
   "execution_count": 5,
   "metadata": {},
   "outputs": [
    {
     "name": "stdout",
     "output_type": "stream",
     "text": [
      "Top 10 most frequent words (including punctuation):\n",
      ",: 18713\n",
      "the: 13721\n",
      ".: 6862\n",
      "of: 6536\n",
      "and: 6024\n",
      "a: 4569\n",
      "to: 4542\n",
      ";: 4072\n",
      "in: 3916\n",
      "that: 2982\n"
     ]
    }
   ],
   "source": [
    "top_10_frequent = Counter(word_counts).most_common(10)\n",
    "print(\"Top 10 most frequent words (including punctuation):\")\n",
    "for word, count in top_10_frequent:\n",
    "    print(f\"{word}: {count}\")"
   ]
  },
  {
   "cell_type": "markdown",
   "metadata": {},
   "source": [
    "e. List top 10 most frequent words that are not punctuation marks. \n",
    "\n"
   ]
  },
  {
   "cell_type": "code",
   "execution_count": 6,
   "metadata": {},
   "outputs": [
    {
     "name": "stdout",
     "output_type": "stream",
     "text": [
      "\n",
      "Top 10 most frequent words (excluding punctuation):\n",
      "the: 13721\n",
      "of: 6536\n",
      "and: 6024\n",
      "a: 4569\n",
      "to: 4542\n",
      "in: 3916\n",
      "that: 2982\n",
      "his: 2459\n",
      "it: 2209\n",
      "I: 2124\n"
     ]
    }
   ],
   "source": [
    "words_without_punctuation = [word for word in text1 if word not in string.punctuation]\n",
    "word_counts_no_punct = Counter(words_without_punctuation)\n",
    "top_10_no_punct = word_counts_no_punct.most_common(10)\n",
    "\n",
    "print(\"\\nTop 10 most frequent words (excluding punctuation):\")\n",
    "for word, count in top_10_no_punct:\n",
    "    print(f\"{word}: {count}\")"
   ]
  },
  {
   "cell_type": "markdown",
   "metadata": {},
   "source": [
    "***Task 2***"
   ]
  },
  {
   "cell_type": "code",
   "execution_count": 7,
   "metadata": {},
   "outputs": [
    {
     "name": "stderr",
     "output_type": "stream",
     "text": [
      "[nltk_data] Downloading package punkt_tab to\n",
      "[nltk_data]     C:\\Users\\mehed/nltk_data...\n",
      "[nltk_data]   Package punkt_tab is already up-to-date!\n",
      "[nltk_data] Downloading package stopwords to\n",
      "[nltk_data]     C:\\Users\\mehed/nltk_data...\n",
      "[nltk_data]   Package stopwords is already up-to-date!\n"
     ]
    },
    {
     "data": {
      "text/plain": [
       "True"
      ]
     },
     "execution_count": 7,
     "metadata": {},
     "output_type": "execute_result"
    }
   ],
   "source": [
    "import pandas as pd\n",
    "import nltk\n",
    "from nltk.tokenize import word_tokenize, sent_tokenize\n",
    "from nltk.corpus import stopwords\n",
    "import string\n",
    "\n",
    "nltk.download('punkt_tab')\n",
    "nltk.download('stopwords')"
   ]
  },
  {
   "cell_type": "markdown",
   "metadata": {},
   "source": [
    "a. Load the csv file using pandas. How many reviews do we have here? Which row has the longest review in terms of words? How about in terms of sentences? "
   ]
  },
  {
   "cell_type": "code",
   "execution_count": 8,
   "metadata": {},
   "outputs": [
    {
     "name": "stdout",
     "output_type": "stream",
     "text": [
      "Total reviews: 50000\n",
      "Longest review in terms of words: 40521th review\n",
      "Longest review in terms of sentences: 39182th review\n"
     ]
    }
   ],
   "source": [
    "data = pd.read_csv('imdb_440.csv')\n",
    "\n",
    "total_reviews = len(data)\n",
    "\n",
    "longest_review_words = data['review'].apply(lambda x: len(word_tokenize(str(x)))).idxmax()\n",
    "\n",
    "longest_review_sentences = data['review'].apply(lambda x: len(sent_tokenize(str(x)))).idxmax()\n",
    "\n",
    "print(f\"Total reviews: {total_reviews}\")\n",
    "print(f\"Longest review in terms of words: {longest_review_words}th review\")\n",
    "print(f\"Longest review in terms of sentences: {longest_review_sentences}th review\")\n"
   ]
  },
  {
   "cell_type": "markdown",
   "metadata": {},
   "source": [
    "b. Cleaning step 1: Now, from each review, remove stopwords and punctuations\n"
   ]
  },
  {
   "cell_type": "code",
   "execution_count": 9,
   "metadata": {},
   "outputs": [
    {
     "name": "stdout",
     "output_type": "stream",
     "text": [
      "Cleaned reviews:\n",
      "0    one reviewers mentioned watching 1 oz episode ...\n",
      "1    wonderful little production br br filming tech...\n",
      "2    thought wonderful way spend time hot summer we...\n",
      "3    basically 's family little boy jake thinks 's ...\n",
      "4    petter mattei 's `` love time money '' visuall...\n",
      "Name: cleaned_review, dtype: object\n"
     ]
    }
   ],
   "source": [
    "def clean_review(review):\n",
    "    tokens = word_tokenize(str(review).lower())\n",
    "    stop_words = set(stopwords.words('english'))\n",
    "    cleaned_tokens = [word for word in tokens if word not in stop_words and word not in string.punctuation]\n",
    "    return ' '.join(cleaned_tokens)\n",
    "\n",
    "data['cleaned_review'] = data['review'].apply(clean_review)\n",
    "\n",
    "print(\"Cleaned reviews:\")\n",
    "print(data['cleaned_review'].head())"
   ]
  },
  {
   "cell_type": "markdown",
   "metadata": {},
   "source": [
    "c. Cleaning step 2: Convert the reviews to lowercase and save these clean reviews (only the reviews, not their classes from the csv file) in a text file where each line will be a single review that is, line 1 will contain the entire first review, line 2 will contain the entire second review and so on. Check whether you have saved all the reviews, or did you miss out on anything."
   ]
  },
  {
   "cell_type": "code",
   "execution_count": 10,
   "metadata": {},
   "outputs": [
    {
     "name": "stdout",
     "output_type": "stream",
     "text": [
      "Cleaned reviews saved to 'cleaned_reviews.txt'.\n"
     ]
    }
   ],
   "source": [
    "with open('cleaned_reviews.txt', 'w', encoding='utf-8') as file:\n",
    "    for review in data['cleaned_review']:\n",
    "        file.write(review.lower() + '\\n')\n",
    "\n",
    "print(\"Cleaned reviews saved to 'cleaned_reviews.txt'.\")\n"
   ]
  },
  {
   "cell_type": "markdown",
   "metadata": {},
   "source": [
    "***Task 3***\n",
    "\n",
    "a. Now, use scikit-learn’s TF-IDF vectorizer to perform the same task in 3a."
   ]
  },
  {
   "cell_type": "code",
   "execution_count": 11,
   "metadata": {},
   "outputs": [
    {
     "name": "stdout",
     "output_type": "stream",
     "text": [
      "Total reviews: 50000\n",
      "Longest review in terms of words: 31481th review\n",
      "Longest review in terms of sentences: 18085th review\n",
      "TF-IDF Matrix Shape: (50000, 101568)\n",
      "Sample TF-IDF Features (First 5 rows):\n",
      "    00  000  00000000000  0000000000001  00000001  00001  00015  000dm  000s  \\\n",
      "0  0.0  0.0          0.0            0.0       0.0    0.0    0.0    0.0   0.0   \n",
      "1  0.0  0.0          0.0            0.0       0.0    0.0    0.0    0.0   0.0   \n",
      "2  0.0  0.0          0.0            0.0       0.0    0.0    0.0    0.0   0.0   \n",
      "3  0.0  0.0          0.0            0.0       0.0    0.0    0.0    0.0   0.0   \n",
      "4  0.0  0.0          0.0            0.0       0.0    0.0    0.0    0.0   0.0   \n",
      "\n",
      "   001  ...  ünel  ünfaithful  üvegtigris  üzümcü   ýs  þorleifsson  þór  \\\n",
      "0  0.0  ...   0.0         0.0         0.0     0.0  0.0          0.0  0.0   \n",
      "1  0.0  ...   0.0         0.0         0.0     0.0  0.0          0.0  0.0   \n",
      "2  0.0  ...   0.0         0.0         0.0     0.0  0.0          0.0  0.0   \n",
      "3  0.0  ...   0.0         0.0         0.0     0.0  0.0          0.0  0.0   \n",
      "4  0.0  ...   0.0         0.0         0.0     0.0  0.0          0.0  0.0   \n",
      "\n",
      "   żmijewski  יגאל  כרמון  \n",
      "0        0.0   0.0    0.0  \n",
      "1        0.0   0.0    0.0  \n",
      "2        0.0   0.0    0.0  \n",
      "3        0.0   0.0    0.0  \n",
      "4        0.0   0.0    0.0  \n",
      "\n",
      "[5 rows x 101568 columns]\n"
     ]
    }
   ],
   "source": [
    "import pandas as pd\n",
    "from sklearn.feature_extraction.text import TfidfVectorizer\n",
    "\n",
    "with open('cleaned_reviews.txt', 'r', encoding='utf-8') as file:\n",
    "    cleaned_reviews = file.readlines()\n",
    "\n",
    "data = pd.DataFrame(cleaned_reviews, columns=['review'])\n",
    "\n",
    "total_reviews = len(data)\n",
    "\n",
    "data['word_count'] = data['review'].apply(lambda x: len(str(x).split()))\n",
    "longest_review_words_index = data['word_count'].idxmax()\n",
    "longest_review_words = data.iloc[longest_review_words_index]\n",
    "\n",
    "data['sentence_count'] = data['review'].apply(lambda x: len(str(x).split('.')))\n",
    "longest_review_sentences_index = data['sentence_count'].idxmax()\n",
    "longest_review_sentences = data.iloc[longest_review_sentences_index]\n",
    "\n",
    "tfidf_vectorizer = TfidfVectorizer(stop_words='english')\n",
    "tfidf_matrix = tfidf_vectorizer.fit_transform(data['review'])\n",
    "\n",
    "feature_names = tfidf_vectorizer.get_feature_names_out()\n",
    "\n",
    "tfidf_sample_df = pd.DataFrame(tfidf_matrix[:5].toarray(), columns=feature_names)\n",
    "\n",
    "print(f\"Total reviews: {total_reviews}\")\n",
    "print(f\"Longest review in terms of words: {longest_review_words_index}th review\")\n",
    "print(f\"Longest review in terms of sentences: {longest_review_sentences_index}th review\")\n",
    "print(f\"TF-IDF Matrix Shape: {tfidf_matrix.shape}\")\n",
    "\n",
    "print(\"Sample TF-IDF Features (First 5 rows):\")\n",
    "print(tfidf_sample_df)\n"
   ]
  },
  {
   "attachments": {
    "image.png": {
     "image/png": "[encoded data removed]"
    }
   },
   "cell_type": "markdown",
   "metadata": {},
   "source": [
    "![image.png](attachment:image.png)"
   ]
  },
  {
   "cell_type": "code",
   "execution_count": 12,
   "metadata": {},
   "outputs": [
    {
     "name": "stdout",
     "output_type": "stream",
     "text": [
      "Cosine Similarities:\n",
      "man_woman: 0.8323494791984558\n",
      "cat_dog: 0.8798074722290039\n",
      "king_queen: 0.7507690787315369\n",
      "\n",
      "Similarity between King - Man + Woman and Queen: 0.7834413647651672\n"
     ]
    }
   ],
   "source": [
    "import numpy as np\n",
    "import pandas as pd\n",
    "from sklearn.metrics.pairwise import cosine_similarity\n",
    "\n",
    "file_path = 'glove.6B.100d.txt'\n",
    "def load_glove_embeddings(file_path):\n",
    "    embeddings = {}\n",
    "    with open(file_path, 'r', encoding='utf-8') as f:\n",
    "        for line in f:\n",
    "            values = line.split()\n",
    "            word = values[0]\n",
    "            vector = np.asarray(values[1:], dtype='float32')\n",
    "            embeddings[word] = vector\n",
    "    return embeddings\n",
    "\n",
    "def cosine_sim(vec1, vec2):\n",
    "    return cosine_similarity([vec1], [vec2])[0][0]\n",
    "\n",
    "glove_file_path = 'glove.6B.100d.txt'\n",
    "embeddings = load_glove_embeddings(glove_file_path)\n",
    "\n",
    "words = ['man', 'woman', 'cat', 'dog', 'king', 'queen']\n",
    "vectors = {word: embeddings[word] for word in words}\n",
    "\n",
    "similarities = {\n",
    "    'man_woman': cosine_sim(vectors['man'], vectors['woman']),\n",
    "    'cat_dog': cosine_sim(vectors['cat'], vectors['dog']),\n",
    "    'king_queen': cosine_sim(vectors['king'], vectors['queen'])\n",
    "}\n",
    "\n",
    "king_man_woman = vectors['king'] - vectors['man'] + vectors['woman']\n",
    "queen_vector = vectors['queen']\n",
    "equation_similarity = cosine_sim(king_man_woman, queen_vector)\n",
    "\n",
    "print(\"Cosine Similarities:\")\n",
    "for pair, similarity in similarities.items():\n",
    "    print(f\"{pair}: {similarity}\")\n",
    "\n",
    "print(f\"\\nSimilarity between King - Man + Woman and Queen: {equation_similarity}\")"
   ]
  }
 ],
 "metadata": {
  "kernelspec": {
   "display_name": "Python 3",
   "language": "python",
   "name": "python3"
  },
  "language_info": {
   "codemirror_mode": {
    "name": "ipython",
    "version": 3
   },
   "file_extension": ".py",
   "mimetype": "text/x-python",
   "name": "python",
   "nbconvert_exporter": "python",
   "pygments_lexer": "ipython3",
   "version": "3.12.8"
  }
 },
 "nbformat": 4,
 "nbformat_minor": 2
}
